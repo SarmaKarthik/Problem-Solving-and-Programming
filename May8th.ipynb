{
 "cells": [
  {
   "cell_type": "markdown",
   "metadata": {},
   "source": [
    "# conditional statements."
   ]
  },
  {
   "cell_type": "code",
   "execution_count": 43,
   "metadata": {},
   "outputs": [
    {
     "name": "stdout",
     "output_type": "stream",
     "text": [
      "n is even\n"
     ]
    }
   ],
   "source": [
    "n=12\n",
    "\n",
    "if n%2==0:\n",
    "    print(\"n is even\")\n",
    "else:\n",
    "    print(\"n is odd\")"
   ]
  },
  {
   "cell_type": "markdown",
   "metadata": {},
   "source": [
    "## Print output"
   ]
  },
  {
   "cell_type": "code",
   "execution_count": 51,
   "metadata": {},
   "outputs": [
    {
     "name": "stdout",
     "output_type": "stream",
     "text": [
      "Hello! World \n"
     ]
    }
   ],
   "source": [
    "print(\"Hello! World \")"
   ]
  },
  {
   "cell_type": "markdown",
   "metadata": {},
   "source": [
    "# Assigning variables."
   ]
  },
  {
   "cell_type": "code",
   "execution_count": 52,
   "metadata": {},
   "outputs": [
    {
     "data": {
      "text/plain": [
       "114374367934617190099880295228066276746218078451850229775887975052369504785666896446606568365201542169649974727730628842345343196581134895919942820874449837212099476648958359023796078549041949007807220625356526926729664064846685758382803707100766740220839267"
      ]
     },
     "execution_count": 52,
     "metadata": {},
     "output_type": "execute_result"
    }
   ],
   "source": [
    "var1=123\n",
    "var2=(var1*var1)**var1\n",
    "\n",
    "var3=var1**var1\n",
    "\n",
    "var3"
   ]
  },
  {
   "cell_type": "markdown",
   "metadata": {},
   "source": [
    "## Number of digits or length of a string."
   ]
  },
  {
   "cell_type": "code",
   "execution_count": 54,
   "metadata": {
    "scrolled": true
   },
   "outputs": [
    {
     "name": "stdout",
     "output_type": "stream",
     "text": [
      "515\n"
     ]
    }
   ],
   "source": [
    "print(len(str(var2)))"
   ]
  },
  {
   "cell_type": "markdown",
   "metadata": {},
   "source": [
    "## string slicing."
   ]
  },
  {
   "cell_type": "code",
   "execution_count": 41,
   "metadata": {},
   "outputs": [
    {
     "data": {
      "text/plain": [
       "'nhy'"
      ]
     },
     "execution_count": 41,
     "metadata": {},
     "output_type": "execute_result"
    }
   ],
   "source": [
    "## string slicing\n",
    "str1=\"python programming\"\n",
    "\n",
    "str1[0] #accessing first character.\n",
    "\n",
    "str1[len(str1)-1] #printing last character.\n",
    "\n",
    "str1[0:6] #printing first 6 characters.\n",
    "\n",
    "str1[len(str1)-1::-1] #reverse of a string.\n",
    "\n",
    "str1[0:len(str1):2] #alternate characters.\n",
    "\n",
    "str1[5::-2] #reverse alternate characters of the word python.\n",
    "\n",
    "#print((str1[7:] + '\\n')*10) #printing in a new line.\n"
   ]
  },
  {
   "cell_type": "code",
   "execution_count": 12,
   "metadata": {},
   "outputs": [
    {
     "data": {
      "text/plain": [
       "[123, 345, 'python']"
      ]
     },
     "execution_count": 12,
     "metadata": {},
     "output_type": "execute_result"
    }
   ],
   "source": [
    "li=[123,345,'python']\n",
    "li"
   ]
  },
  {
   "cell_type": "markdown",
   "metadata": {},
   "source": [
    "## lists"
   ]
  },
  {
   "cell_type": "code",
   "execution_count": 40,
   "metadata": {},
   "outputs": [
    {
     "data": {
      "text/plain": [
       "[123, 345, 987, 534, 765, 432, 999]"
      ]
     },
     "execution_count": 40,
     "metadata": {},
     "output_type": "execute_result"
    }
   ],
   "source": [
    "li=[123,345,'python']\n",
    "len(li) #length of the list.\n",
    "li[2] #accessing list elements.\n",
    "li[len(li)-1]='programming' #replacing  an element in a list\n",
    "li.append('python') #adding a new element.\n",
    "\n",
    "li.pop() #removes the last element if index not given.\n",
    "li.pop(1) #removes the element at the 1st index.\n",
    "li.remove(123) #removes the value from the list.\n",
    "li.insert(0,123) #inserts 123 at 0th index\n",
    "li.insert(1,345)\n",
    "li\n",
    "li2 = [[1,2,3],[4,5,6],[7,8,9]]\n",
    "li2[1][1] #output is 5 since it is the element at 1 index of the main list and 1 index of the sub list.\n",
    "li2[0][1] #output is 2\n",
    "li2[0][0] #output is 1\n",
    "li2.insert(3,[10,11,12]) #it inserts a list of [10,11,12] at the 3rd index of li2\n",
    "li2.pop(3)\n",
    "li2.remove([4,5,6])\n",
    "li2 = [[1,2,3],[4,5,6],[7,8,9]]\n",
    "#for i in range(0,len(li2)):        #printing of elements in  a 3*3 array\n",
    "   # for j in range(0,len(li2[i])):\n",
    "       # print(li2[i][j],end=' ')\n",
    "#for i in range(len(li2)-1,-1,-1):\n",
    "    #for j in range(len(li2[i]-1,-1,-1)):\n",
    "       # print(li2[i][j], end=' ')\n",
    "li.pop()\n",
    "li.sort()\n",
    "li.append(987)\n",
    "li.append(534)\n",
    "li.extend([765,432,999])\n",
    "li.sort\n",
    "li\n"
   ]
  },
  {
   "cell_type": "markdown",
   "metadata": {},
   "source": [
    "## Tuples.\n"
   ]
  },
  {
   "cell_type": "code",
   "execution_count": 29,
   "metadata": {},
   "outputs": [
    {
     "data": {
      "text/plain": [
       "'2 5 8'"
      ]
     },
     "execution_count": 29,
     "metadata": {},
     "output_type": "execute_result"
    }
   ],
   "source": [
    "t1=(123,456,789)\n",
    "t1[2]              # accessing element using index note:should use []\n",
    "t1[2]+t1[1]        # operations can be performed.\n",
    "t1[len(t1)-1]      #to access the last element.\n",
    "t1[1:3]            #gives a tuple which is a subtuple of given tuple inclusive of 1st index and exclusive of 3rd index that means it gives 1st indexed element and 2nd indexed element.\n",
    "str(t1[0])[1]+ \" \"+ str(t1[1])[1]+ \" \" +str(t1[2])[1]                        #gives the elements at specified index.\n",
    "str(t1[0])[2::-1]+\" \"+str(t1[1])[2::-1]+\" \"+str(t1[2])[2::-1]                #prints the elements of list in reverse order.\n"
   ]
  },
  {
   "cell_type": "markdown",
   "metadata": {},
   "source": [
    "## Reading Input from user."
   ]
  },
  {
   "cell_type": "code",
   "execution_count": 30,
   "metadata": {},
   "outputs": [
    {
     "name": "stdout",
     "output_type": "stream",
     "text": [
      "enter a string.hello world\n"
     ]
    },
    {
     "data": {
      "text/plain": [
       "'hello world'"
      ]
     },
     "execution_count": 30,
     "metadata": {},
     "output_type": "execute_result"
    }
   ],
   "source": [
    "str1=input(\"enter a string.\") #input() function is used.\n",
    "\n",
    "str1"
   ]
  },
  {
   "cell_type": "markdown",
   "metadata": {},
   "source": [
    "## Dictionaries."
   ]
  },
  {
   "cell_type": "code",
   "execution_count": 39,
   "metadata": {
    "scrolled": true
   },
   "outputs": [
    {
     "data": {
      "text/plain": [
       "{'procedural': 'c',\n",
       " 'scripting': 'python',\n",
       " 'functional': '',\n",
       " 'symbolic': 'mathematics',\n",
       " 'logic': 'prolog',\n",
       " 'object oriented': 'java'}"
      ]
     },
     "execution_count": 39,
     "metadata": {},
     "output_type": "execute_result"
    }
   ],
   "source": [
    "d1={'procedural':'c','scripting':'python','functional':''}\n",
    "\n",
    "d1['scripting']                                                      #dictionary should have a unique key but values may not be unique or can be repeated. \n",
    "d1.values()\n",
    "d1.keys()\n",
    "d2={'symbolic':'mathematics','logic':'prolog'}\n",
    "d1.update(d2) #merging two dictionaries.\n",
    "d1['object oriented']='java' #Adding or inserting a new element \n",
    "d1[]\n",
    "\n",
    "d1"
   ]
  },
  {
   "cell_type": "code",
   "execution_count": null,
   "metadata": {},
   "outputs": [],
   "source": []
  },
  {
   "cell_type": "markdown",
   "metadata": {},
   "source": [
    "### Problem1:\n",
    "##### Problem statement \n",
    "For a given number,check if it is divisible by 2 and 3 but not 4.\n",
    "\n",
    "#### Constraints\n",
    "Given number will be in the range [1,1000000000]\n",
    "\n",
    "#### Test Cases\n",
    "* checkdivisibility(6)->True\n",
    "* checkdivisibility(16)->False\n",
    "* checkdivisibility(20)->False\n",
    "\n",
    "\n"
   ]
  },
  {
   "cell_type": "code",
   "execution_count": 50,
   "metadata": {},
   "outputs": [
    {
     "data": {
      "text/plain": [
       "True"
      ]
     },
     "execution_count": 50,
     "metadata": {},
     "output_type": "execute_result"
    }
   ],
   "source": [
    "def checkdivisibility(n):\n",
    "    if(n%2==0 and n%3==0 and n%4!=0):\n",
    "        return True\n",
    "    else:\n",
    "        return False\n",
    "    \n",
    "    \n",
    "checkdivisibility(458763211986)"
   ]
  }
 ],
 "metadata": {
  "kernelspec": {
   "display_name": "Python 3",
   "language": "python",
   "name": "python3"
  },
  "language_info": {
   "codemirror_mode": {
    "name": "ipython",
    "version": 3
   },
   "file_extension": ".py",
   "mimetype": "text/x-python",
   "name": "python",
   "nbconvert_exporter": "python",
   "pygments_lexer": "ipython3",
   "version": "3.7.3"
  }
 },
 "nbformat": 4,
 "nbformat_minor": 2
}
