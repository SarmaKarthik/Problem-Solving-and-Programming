{
 "cells": [
  {
   "cell_type": "code",
   "execution_count": null,
   "metadata": {},
   "outputs": [],
   "source": []
  },
  {
   "cell_type": "code",
   "execution_count": null,
   "metadata": {},
   "outputs": [],
   "source": [
    "Problem solving and Programming.\n",
    "Day no-\n",
    "Date-\n",
    "Day Objectives\n",
    "Objective1\n",
    "Objective2\n",
    "objective\n"
   ]
  },
  {
   "cell_type": "code",
   "execution_count": null,
   "metadata": {},
   "outputs": [],
   "source": [
    "\n",
    "\n",
    "Problem1:\n",
    "    \n",
    "Problem statement\n",
    "For a given integer N, find the total number of  Non - Prime Factors in the range (1, N) (both exclusive) that do not contain the digit 0\n",
    "\n",
    "Constraints\n",
    "Test Cases\n",
    "Test Case 1 : nonPrimeFactorsCount( 100 ) -> 2\n",
    " \n",
    "Test Case 2 : nonPrimeFactorsCount( 50 )  -> 1\n",
    "\n"
   ]
  },
  {
   "cell_type": "code",
   "execution_count": 6,
   "metadata": {},
   "outputs": [
    {
     "name": "stdout",
     "output_type": "stream",
     "text": [
      "1\n",
      "2\n",
      "4\n",
      "5\n",
      "10\n",
      "20\n",
      "25\n",
      "50\n"
     ]
    },
    {
     "data": {
      "text/plain": [
       "'\\ndef isprime(i):\\n    for k in range(2,i):\\n        if i%k==0:\\n            print(i)\\n'"
      ]
     },
     "execution_count": 6,
     "metadata": {},
     "output_type": "execute_result"
    }
   ],
   "source": [
    "\n",
    "\n",
    "def factors(a):\n",
    "    \n",
    "    for i in range (1,(a//2)+1): #using // results in division.\n",
    "        if a%i==0:\n",
    "            \n",
    "            print (i)\n",
    "    return i\n",
    "factors(100)\n",
    "\n",
    "'''\n",
    "def isprime(i):\n",
    "    for k in range(2,i):\n",
    "        if i%k==0 \n",
    "            print(i)\n",
    "'''        \n",
    "    "
   ]
  },
  {
   "cell_type": "code",
   "execution_count": null,
   "metadata": {},
   "outputs": [],
   "source": []
  },
  {
   "cell_type": "code",
   "execution_count": 51,
   "metadata": {},
   "outputs": [
    {
     "name": "stdout",
     "output_type": "stream",
     "text": [
      "1\n",
      "2\n",
      "3\n",
      "5\n",
      "6\n",
      "10\n",
      "15\n",
      "25\n",
      "30\n",
      "50\n",
      "75\n",
      "[6, 6, 15, 15, 25, 75, 75, 75, 75]\n"
     ]
    },
    {
     "data": {
      "text/plain": [
       "9"
      ]
     },
     "execution_count": 51,
     "metadata": {},
     "output_type": "execute_result"
    }
   ],
   "source": [
    "def main(n):\n",
    "    a = []\n",
    "    b = []\n",
    "    count = 0\n",
    "    for i in range (1,(n//2)+1):\n",
    "        if (n%i == 0):\n",
    "            print(i)\n",
    "            a.append(i)\n",
    "    for j in range (0,len(a)):\n",
    "        for k in range (2,a[j]):\n",
    "            if (a[j]%k == 0 and a[j]%10 != 0):\n",
    "                \n",
    "                b.append(a[j])\n",
    "               \n",
    "                count = count + 1\n",
    "    print(b)          \n",
    "    return count\n",
    "main(150)"
   ]
  },
  {
   "cell_type": "code",
   "execution_count": null,
   "metadata": {},
   "outputs": [],
   "source": []
  },
  {
   "cell_type": "code",
   "execution_count": null,
   "metadata": {},
   "outputs": [],
   "source": [
    "def main(n):\n",
    "    i = 1\n",
    "    a[0] = 0\n",
    "    for i in range (0,10000):\n",
    "        a[i] = n*i\n",
    "        \n",
    "    for k in range (1,len(a[i])):\n",
    "        if (a[i]%10 == 0 or 9):\n",
    "    return a[i] \n",
    "            \n",
    "        \n",
    "        \n",
    "main(5)"
   ]
  },
  {
   "cell_type": "code",
   "execution_count": null,
   "metadata": {},
   "outputs": [],
   "source": []
  },
  {
   "cell_type": "code",
   "execution_count": null,
   "metadata": {},
   "outputs": [],
   "source": []
  },
  {
   "cell_type": "code",
   "execution_count": null,
   "metadata": {},
   "outputs": [],
   "source": []
  },
  {
   "cell_type": "code",
   "execution_count": 66,
   "metadata": {},
   "outputs": [
    {
     "name": "stdout",
     "output_type": "stream",
     "text": [
      "7\n",
      "4\n",
      "1\n"
     ]
    }
   ],
   "source": [
    "def rowprint(a,r,nc):\n",
    "    for  i  in range (0,nc):\n",
    "        print(a[r][i],end = ' ')                       # nc = no.of coulumns.\n",
    "                                                       # nr = no.of rows.\n",
    "        \n",
    "\n",
    "\n",
    "def coloumnprint(a,c,nr):\n",
    "    for i in range (0,nr):\n",
    "        print(a[i][c],end = ' ')\n",
    "        \n",
    "        \n",
    "def reverserowprint(a,r,nc):\n",
    "    for i in range (nc-1,-1,-1):\n",
    "        print(a[r][i],end = ' ')\n",
    "        \n",
    "        \n",
    "        \n",
    "def reversecoloumnprint(a,c,nr):\n",
    "    for i in range (nr-1,-1,-1):\n",
    "        print(a[i][c])\n",
    "        \n",
    "        \n",
    "m1 = [[1,2,3],[4,5,6],[7,8,9]]\n",
    "\n",
    "\n",
    "#rowprint(m1,1,3)\n",
    "\n",
    "#coloumnprint(m1,2,3)\n",
    "\n",
    "#reverserowprint(m1,2,3)\n",
    "\n",
    "reversecoloumnprint(m1,0,3)"
   ]
  },
  {
   "cell_type": "code",
   "execution_count": 77,
   "metadata": {},
   "outputs": [
    {
     "name": "stdout",
     "output_type": "stream",
     "text": [
      "1 2 3 6 9 12 11 10 7 4 "
     ]
    }
   ],
   "source": [
    "def rowprint(a,r,rs,nc):\n",
    "    for  i  in range (rs,nc):\n",
    "        print(a[r][i],end = ' ')                       # nc = no.of coulumns.\n",
    "                                                       # nr = no.of rows.\n",
    "        \n",
    "\n",
    "                                                         # rs - start value of row where you wanna start\n",
    "def coloumnprint(a,c,cs,nr):\n",
    "    for i in range (cs,nr):\n",
    "        print(a[i][c],end = ' ')\n",
    "        \n",
    "        \n",
    "def reverserowprint(a,r,rs,nc):\n",
    "    for i in range (nc-rs-1,-1,-1):\n",
    "        print(a[r][i],end = ' ')\n",
    "        \n",
    "        \n",
    "        \n",
    "def reversecoloumnprint(a,c,cstr,cstp,nr):\n",
    "    for i in range (nr-cstr-1,cstp,-1):\n",
    "        print(a[i][c],end = ' ')\n",
    "\n",
    "        \n",
    "        \n",
    "def outermatrix(m1,nr,nc):\n",
    "    rowprint(m1,0,0,nc)\n",
    "    coloumnprint(m1,nc-1,1,nr)\n",
    "    reverserowprint(m1,nr-1,nc-2,nc)\n",
    "    reversecoloumnprint(m1,0,nr-3,0,nr)\n",
    "    \n",
    "        \n",
    "m1 = [[1,2,3],[4,5,6],[7,8,9],[10,11,12]]\n",
    "\n",
    "\n",
    "#rowprint(m1,1,3)\n",
    "\n",
    "#coloumnprint(m1,2,3)\n",
    "\n",
    "#reverserowprint(m1,2,3)\n",
    "\n",
    "#reversecoloumnprint(m1,0,1,3)\n",
    "\n",
    "outermatrix(m1,4,3)"
   ]
  },
  {
   "cell_type": "code",
   "execution_count": null,
   "metadata": {},
   "outputs": [],
   "source": []
  }
 ],
 "metadata": {
  "kernelspec": {
   "display_name": "Python 3",
   "language": "python",
   "name": "python3"
  },
  "language_info": {
   "codemirror_mode": {
    "name": "ipython",
    "version": 3
   },
   "file_extension": ".py",
   "mimetype": "text/x-python",
   "name": "python",
   "nbconvert_exporter": "python",
   "pygments_lexer": "ipython3",
   "version": "3.7.3"
  }
 },
 "nbformat": 4,
 "nbformat_minor": 2
}
