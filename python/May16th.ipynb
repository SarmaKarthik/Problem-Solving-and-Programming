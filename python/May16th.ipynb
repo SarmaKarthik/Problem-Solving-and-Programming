{
 "cells": [
  {
   "cell_type": "markdown",
   "metadata": {},
   "source": [
    "# Problem solving and Programming.\n",
    "\n",
    "## Day no-18\n",
    "\n",
    "## Date-16-05-19"
   ]
  },
  {
   "cell_type": "markdown",
   "metadata": {},
   "source": [
    "### Problem1:\n",
    "##### Problem statement\n",
    "\n",
    "#### Constraints\n",
    "\n",
    "#### Test Cases\n",
    "* Test Case 1\n",
    "* Test Case 2\n"
   ]
  },
  {
   "cell_type": "code",
   "execution_count": 27,
   "metadata": {},
   "outputs": [
    {
     "data": {
      "text/plain": [
       "'data in line 4'"
      ]
     },
     "execution_count": 27,
     "metadata": {},
     "output_type": "execute_result"
    }
   ],
   "source": [
    "def readfiledata(filename):\n",
    "    f = open(filename,'r')\n",
    "    filedata = f.readline()    #will read one particular line\n",
    "    \n",
    "    \n",
    "    \n",
    "    f.close()\n",
    "    return filedata\n",
    "\n",
    "readfiledata('datamay16th.txt')\n",
    "\n"
   ]
  },
  {
   "cell_type": "code",
   "execution_count": 13,
   "metadata": {},
   "outputs": [
    {
     "data": {
      "text/plain": [
       "'Data in line 1\\nData in line 2\\nData in line 3'"
      ]
     },
     "execution_count": 13,
     "metadata": {},
     "output_type": "execute_result"
    }
   ],
   "source": [
    "def readfiledata(filename):\n",
    "    with open(filename,'r') as f:\n",
    "        filedata = f.read()    #will read all lines.\n",
    "                                        \n",
    "        # 'with' statement takes care of opening and closing the file.It redundates the use of f.close().\n",
    "    \n",
    "    \n",
    "    #f.close()\n",
    "    return filedata\n",
    "\n",
    "readfiledata('datamay16th.txt')\n",
    "\n",
    "    "
   ]
  },
  {
   "cell_type": "code",
   "execution_count": 10,
   "metadata": {},
   "outputs": [
    {
     "name": "stdout",
     "output_type": "stream",
     "text": [
      "Data in line 1\n",
      " Data in line 2\n",
      " Data in line 3 "
     ]
    }
   ],
   "source": [
    "def readfiledata(filename):\n",
    "    with open(filename,'r') as f:\n",
    "        for line in f:\n",
    "            print(line,end = ' ')\n",
    "        return\n",
    "    #filedata = f.read()    #will read all lines.\n",
    "                                        \n",
    "        # 'with' statement takes care of opening and closing the file.It redundates the use of f.close().\n",
    "    \n",
    "    \n",
    "    #f.close()\n",
    "    #return filedata\n",
    "\n",
    "readfiledata('datamay16th.txt')\n",
    "\n",
    "    "
   ]
  },
  {
   "cell_type": "code",
   "execution_count": 8,
   "metadata": {},
   "outputs": [
    {
     "name": "stdout",
     "output_type": "stream",
     "text": [
      "Data in line 1\n",
      "Data in line 2\n",
      "Data in line 3\n"
     ]
    }
   ],
   "source": [
    "def readfiledata(filename):\n",
    "    with open(filename,'r') as f:\n",
    "        #for line in f:\n",
    "           # print(line,end = ' ')\n",
    "            print(f.read())\n",
    "    return\n",
    "    #filedata = f.read()    #will read all lines.\n",
    "                                        \n",
    "        # 'with' statement takes care of opening and closing the file.It redundates the use of f.close().\n",
    "    \n",
    "    \n",
    "    #f.close()\n",
    "    #return filedata\n",
    "\n",
    "readfiledata('datamay16th.txt')\n",
    "\n",
    "    "
   ]
  },
  {
   "cell_type": "code",
   "execution_count": null,
   "metadata": {},
   "outputs": [],
   "source": []
  },
  {
   "cell_type": "code",
   "execution_count": null,
   "metadata": {},
   "outputs": [],
   "source": []
  },
  {
   "cell_type": "code",
   "execution_count": 23,
   "metadata": {},
   "outputs": [],
   "source": [
    "def writeintofile(filename,data,mode):\n",
    "    with open(filename,mode) as f:\n",
    "        f.write(data)\n",
    "        \n",
    "        \n",
    "    return\n",
    "\n",
    "writeintofile('datamay16thwrite.txt','\\nsecond line','a')"
   ]
  },
  {
   "cell_type": "code",
   "execution_count": null,
   "metadata": {},
   "outputs": [],
   "source": []
  },
  {
   "cell_type": "markdown",
   "metadata": {},
   "source": [
    "### Problem 2:\n",
    "##### Problem statement\n",
    "Define a function to generate a Marks data file for 1300 students such that each mark is entered in a new line.Marks range from 0 to 100(inclusive) as random numbers.\n",
    "\n",
    "#### Constraints\n",
    "\n",
    "#### Test Cases\n",
    "* Test Case 1\n",
    "* Test Case 2\n"
   ]
  },
  {
   "cell_type": "code",
   "execution_count": 25,
   "metadata": {},
   "outputs": [],
   "source": [
    "from random import randrange\n",
    "\n",
    "def generatemarks(filename):\n",
    "    with open(filename,'w') as f:\n",
    "        for i in range (0,1300):\n",
    "            f.write(str(randrange(0,101)))\n",
    "            f.write('\\n')\n",
    "    \n",
    "    return \n",
    "generatemarks('marks.txt')"
   ]
  },
  {
   "cell_type": "code",
   "execution_count": null,
   "metadata": {},
   "outputs": [],
   "source": []
  },
  {
   "cell_type": "markdown",
   "metadata": {},
   "source": [
    "### Problem 3:\n",
    "##### Problem statement\n",
    "Generate a report on the marks data with the following indicators\n",
    "* Highest Mark :\n",
    "* Lowest Mark :\n",
    "* Average Mark :\n",
    "* No.of students with distinction (>80):\n",
    "* No.of students with first class (>70):\n",
    "* No.of students with second class (>60):\n",
    "* No.of students with third class (>50):\n",
    "* No.of students failed (<40):\n",
    "\n",
    "\n",
    "#### Constraints\n",
    "\n",
    "#### Test Cases\n",
    "* Test Case 1\n",
    "* Test Case 2\n"
   ]
  },
  {
   "cell_type": "code",
   "execution_count": 50,
   "metadata": {},
   "outputs": [
    {
     "data": {
      "text/plain": [
       "0.002881288000025961"
      ]
     },
     "execution_count": 50,
     "metadata": {},
     "output_type": "execute_result"
    }
   ],
   "source": [
    "def report(filename):\n",
    "    start=timeit.default_timer()\n",
    "    li = []\n",
    "    distinctioncount = 0\n",
    "    firstclasscount = 0\n",
    "    secondclasscount = 0\n",
    "    thirdclasscount = 0\n",
    "    failedcount = 0\n",
    "    with open(filename,'r') as f:\n",
    "        for i in range (0,1300):\n",
    "            \n",
    "            filedata = int(f.readline())\n",
    "            li.append(filedata)\n",
    "            if filedata>=80:\n",
    "                distinctioncount = distinctioncount+1\n",
    "            if 70<=filedata<80:\n",
    "                firstclasscount += 1\n",
    "            if 60 <= filedata < 70:\n",
    "                secondclasscount += 1\n",
    "            if 50 <= filedata < 60:\n",
    "                thirdclasscount += 1\n",
    "            if filedata < 50:\n",
    "                failedcount += 1\n",
    "    #print(len(li))\n",
    "    with open('report.txt','w') as f:\n",
    "        f.write('highest mark :'+str(max(li))+'\\n')\n",
    "        f.write('lowest mark :'+str(min(li))+'\\n')\n",
    "        f.write('average mark :'+str(sum(li)//len(li))+'\\n')\n",
    "        f.write('no of students with distinction :'+str(distinctioncount)+'\\n')\n",
    "        f.write('no of students with firstclass :'+str(firstclasscount)+'\\n')\n",
    "        f.write('no of students with secondclass :'+str(secondclasscount)+'\\n')\n",
    "        f.write('no of students with thirdclass :'+str(thirdclasscount)+'\\n')\n",
    "        f.write('no of students failed :'+str(failedcount)+'\\n')\n",
    "        f.write('length of list:'+str(len(li))+'\\n')\n",
    "      \n",
    "      \n",
    "    return  timeit.default_timer()-start\n",
    "   \n",
    "\n",
    "report('marks.txt')\n",
    "\n",
    "                    \n",
    "         "
   ]
  },
  {
   "cell_type": "code",
   "execution_count": null,
   "metadata": {},
   "outputs": [],
   "source": []
  },
  {
   "cell_type": "code",
   "execution_count": 20,
   "metadata": {},
   "outputs": [],
   "source": [
    "import re,timeit\n",
    "def generatemarksreport(marksfile):\n",
    "    start = timeit.default_timer"
   ]
  },
  {
   "cell_type": "code",
   "execution_count": null,
   "metadata": {},
   "outputs": [],
   "source": []
  }
 ],
 "metadata": {
  "kernelspec": {
   "display_name": "Python 3",
   "language": "python",
   "name": "python3"
  },
  "language_info": {
   "codemirror_mode": {
    "name": "ipython",
    "version": 3
   },
   "file_extension": ".py",
   "mimetype": "text/x-python",
   "name": "python",
   "nbconvert_exporter": "python",
   "pygments_lexer": "ipython3",
   "version": "3.7.3"
  }
 },
 "nbformat": 4,
 "nbformat_minor": 2
}
