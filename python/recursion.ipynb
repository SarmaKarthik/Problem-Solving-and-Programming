{
 "cells": [
  {
   "cell_type": "markdown",
   "metadata": {},
   "source": [
    "# Problem solving and Programming.\n",
    "\n",
    "\n",
    "\n",
    "## Day no- 12\n",
    "\n",
    "\n",
    "## Date- 10 May-19\n",
    "\n",
    "\n",
    "### Day Outcomes\n",
    "1. \n",
    "2. \n",
    "3. "
   ]
  },
  {
   "cell_type": "code",
   "execution_count": null,
   "metadata": {},
   "outputs": [],
   "source": []
  },
  {
   "cell_type": "markdown",
   "metadata": {},
   "source": [
    "# Recursion\n",
    " Recursion is function calling itself.\n",
    " \n",
    " Breakdown a complex problem into subproblems of lower complexity.Keep repeating this process until we reach the smallest possible subproblem to which we know the solution.\n",
    " \n",
    " \n",
    " power of a number\n",
    " Factorial\n",
    " GCD\n",
    " Towers of Hanoi\n",
    " Binary search\n",
    " Merge sort\n",
    " fibonacii series\n",
    " Any problem with iteration."
   ]
  },
  {
   "cell_type": "code",
   "execution_count": null,
   "metadata": {},
   "outputs": [],
   "source": []
  },
  {
   "cell_type": "markdown",
   "metadata": {},
   "source": [
    "### Problem1:\n",
    "##### Problem statement\n",
    "Program to find the power of a number using recursion.\n",
    "\n",
    "#### Constraints\n",
    "\n",
    "#### Test Cases\n",
    "* Test Case 1\n",
    "* Test Case 2\n"
   ]
  },
  {
   "cell_type": "code",
   "execution_count": 2,
   "metadata": {},
   "outputs": [
    {
     "data": {
      "text/plain": [
       "6561"
      ]
     },
     "execution_count": 2,
     "metadata": {},
     "output_type": "execute_result"
    }
   ],
   "source": [
    "def recursivepower(n,r):\n",
    "    if r == 1:\n",
    "        return n\n",
    "    else:\n",
    "        return recursivepower(n,r-1) * n\n",
    "recursivepower(3,8)"
   ]
  },
  {
   "cell_type": "code",
   "execution_count": null,
   "metadata": {},
   "outputs": [],
   "source": []
  },
  {
   "cell_type": "markdown",
   "metadata": {},
   "source": [
    "## Problem 2:\n",
    "##### Problem statement\n",
    "Program to find the factorial of a number.\n",
    "\n",
    "#### Constraints\n",
    "\n",
    "#### Test Cases\n",
    "* Test Case 1\n",
    "factorial(5) -> 120\n",
    "* Test Case 2\n",
    "factorial(8) -> 40320 \n"
   ]
  },
  {
   "cell_type": "code",
   "execution_count": 5,
   "metadata": {},
   "outputs": [
    {
     "data": {
      "text/plain": [
       "40320"
      ]
     },
     "execution_count": 5,
     "metadata": {},
     "output_type": "execute_result"
    }
   ],
   "source": [
    "def factorial(n):\n",
    "    if n == 1:\n",
    "        return n\n",
    "    else:\n",
    "        return factorial(n-1)*n\n",
    "factorial(8)"
   ]
  },
  {
   "cell_type": "code",
   "execution_count": null,
   "metadata": {},
   "outputs": [],
   "source": []
  },
  {
   "cell_type": "markdown",
   "metadata": {},
   "source": [
    "### Problem 3:\n",
    "##### Problem statement\n",
    "Program to find the GCD of given two num bers using recursion.\n",
    "\n",
    "#### Constraints\n",
    "\n",
    "#### Test Cases\n",
    "* Test Case 1\n",
    "GCD(12,36) -> 12.\n",
    "\n"
   ]
  },
  {
   "cell_type": "code",
   "execution_count": 12,
   "metadata": {},
   "outputs": [
    {
     "data": {
      "text/plain": [
       "12"
      ]
     },
     "execution_count": 12,
     "metadata": {},
     "output_type": "execute_result"
    }
   ],
   "source": [
    "# Iterative GCD\n",
    "\n",
    "\n",
    "def gcditerative(a,b):\n",
    "    r=b%a\n",
    "    if r==0:\n",
    "        return a\n",
    "    while r != 0:\n",
    "        r = b%a\n",
    "        b = a \n",
    "        a = r\n",
    "        \n",
    "        \n",
    "    return b\n",
    " \n",
    "gcditerative(12,36)"
   ]
  },
  {
   "cell_type": "code",
   "execution_count": null,
   "metadata": {},
   "outputs": [],
   "source": [
    "# Recursive GCD\n",
    "\n",
    "\n",
    "def gcd(a,b):\n",
    "    if b%a == 0:\n",
    "        return a\n",
    "    else:\n",
    "        return gcd(b%a,a)\n",
    "gcd(12,39)\n",
    "        "
   ]
  },
  {
   "cell_type": "code",
   "execution_count": null,
   "metadata": {},
   "outputs": [],
   "source": []
  },
  {
   "cell_type": "markdown",
   "metadata": {},
   "source": [
    "### Problem  4:\n",
    "##### Problem statement\n",
    "Program to describe the sequence of steps for Towers of hanoi for n disks.\n",
    "\n",
    "#### Constraints\n",
    "\n",
    "#### Test Cases\n",
    "\n"
   ]
  },
  {
   "cell_type": "code",
   "execution_count": null,
   "metadata": {},
   "outputs": [],
   "source": []
  },
  {
   "cell_type": "code",
   "execution_count": null,
   "metadata": {},
   "outputs": [],
   "source": [
    "n disks -> move n-1 disks from source to temporary.\n",
    "           move nth disk from source to destination.\n",
    "           move n-1 disks from temp to destination.\n",
    "        \n",
    "           "
   ]
  },
  {
   "cell_type": "code",
   "execution_count": 23,
   "metadata": {},
   "outputs": [
    {
     "name": "stdout",
     "output_type": "stream",
     "text": [
      "move 1 disk from  a to c\n",
      "move 2 disk from a to b\n",
      "move 1 disk from  c to b\n",
      "move 3 disk from a to c\n",
      "move 1 disk from  b to a\n",
      "move 2 disk from b to c\n",
      "move 1 disk from  a to c\n"
     ]
    }
   ],
   "source": [
    "def towersofHanoi(n,source,temp,destination):\n",
    "    if n == 1:\n",
    "        print(\"move\" ,n ,\"disk from \" ,source ,\"to\" ,destination )\n",
    "        return\n",
    "    else:\n",
    "        towersofHanoi(n-1,source,destination,temp)\n",
    "        print(\"move\" ,n ,\"disk from\" ,source ,\"to\" ,destination)\n",
    "        towersofHanoi(n-1,temp,source,destination)\n",
    "        return\n",
    "towersofHanoi(3,'a','b','c')"
   ]
  },
  {
   "cell_type": "code",
   "execution_count": null,
   "metadata": {},
   "outputs": [],
   "source": []
  },
  {
   "cell_type": "markdown",
   "metadata": {},
   "source": [
    "### Problem 5:\n",
    "##### Problem statement\n",
    "Program to generate the nth fibonacii number.\n",
    "\n",
    "#### Constraints\n",
    "\n",
    "#### Test Cases\n",
    "\n"
   ]
  },
  {
   "cell_type": "code",
   "execution_count": 33,
   "metadata": {},
   "outputs": [
    {
     "data": {
      "text/plain": [
       "13"
      ]
     },
     "execution_count": 33,
     "metadata": {},
     "output_type": "execute_result"
    }
   ],
   "source": [
    "def fibonaci(index):\n",
    "    if index == 0:\n",
    "        return \"in valid\"\n",
    "    if index == 1:\n",
    "        return 0\n",
    "    if index ==2:\n",
    "        return 1\n",
    "    else:\n",
    "        return fibonaci(index-1) + fibonaci(index-2)\n",
    "    \n",
    "    \n",
    "   \n",
    "        \n",
    "fibonaci(8)   \n",
    "        \n",
    "        "
   ]
  },
  {
   "cell_type": "code",
   "execution_count": null,
   "metadata": {},
   "outputs": [],
   "source": []
  },
  {
   "cell_type": "markdown",
   "metadata": {},
   "source": [
    "### Problem 6:\n",
    "\n",
    "##### Problem statement\n",
    "Define a function to convert a binary number to the corresponding decimal number\n",
    "#### Constraints\n",
    "\n",
    "#### Test Cases\n",
    "* Test Case 1 :\n",
    "    binaryToDecimal(1100) -> 12\n",
    "    \n",
    "* Test Case 2 :\n",
    "    binaryToDecimal(1010) -> 10\n",
    "\n",
    "* Test Case 3 :\n",
    "    binaryToDecimal(1010) -> 10\n",
    "   \n",
    "* Test Case 4 :\n",
    "    binaryToDecimal(111000) -> 56\n",
    "\n"
   ]
  },
  {
   "cell_type": "code",
   "execution_count": 24,
   "metadata": {},
   "outputs": [
    {
     "name": "stdout",
     "output_type": "stream",
     "text": [
      "15\n",
      "3943301\n"
     ]
    }
   ],
   "source": [
    "def bod(n):\n",
    "    sum = 0\n",
    "    for i in range(0,len(str(n))):\n",
    "        \n",
    "        r = n%10\n",
    "        \n",
    "        sum=sum+(r*(2**i))\n",
    "        n = n//10\n",
    "         \n",
    "       \n",
    "    return sum\n",
    "print(bod(1111))\n",
    "print(bod(1111000010101110000101))"
   ]
  },
  {
   "cell_type": "code",
   "execution_count": null,
   "metadata": {},
   "outputs": [],
   "source": []
  },
  {
   "cell_type": "markdown",
   "metadata": {},
   "source": [
    "### Problem 7:\n",
    "##### Problem statement\n",
    " Define a function to convert a decimal number to the corresponding binary number.\n",
    "\n",
    "#### Constraints\n",
    "\n",
    "#### Test Cases\n",
    "* Test Case 1 :\n",
    "    decimalToBinary(15) -> 1111\n",
    "\n",
    "* Test Case 2 :\n",
    "    decimalToBinary(1) -> 1\n",
    "\n"
   ]
  },
  {
   "cell_type": "code",
   "execution_count": 21,
   "metadata": {},
   "outputs": [
    {
     "data": {
      "text/plain": [
       "1100100"
      ]
     },
     "execution_count": 21,
     "metadata": {},
     "output_type": "execute_result"
    }
   ],
   "source": [
    "def dob(n):\n",
    "    c=''\n",
    "   \n",
    "    \n",
    "    while n > 0:\n",
    "        r=n%2\n",
    "        n=n//2\n",
    "        c=str(r)+c\n",
    "        \n",
    "    return int(c)\n",
    "\n",
    "\n",
    "\n",
    "        \n",
    "dob(100)      "
   ]
  },
  {
   "cell_type": "code",
   "execution_count": null,
   "metadata": {},
   "outputs": [],
   "source": []
  },
  {
   "cell_type": "markdown",
   "metadata": {},
   "source": [
    "### Problem 8:\n",
    "##### Problem statement\n",
    " Define a function to merge the characters of two strings alternatively. The remaining characters\n",
    "\n",
    "     of the longer string are printed in the same order at the end.\n",
    "\n",
    "#### Constraints\n",
    "\n",
    "#### Test Cases\n",
    "* Test Case 1 :\n",
    "    mergeString('abcd', 'abcd') -> 'aabbccdd'\n",
    "\n",
    "\n",
    "* Test Case 2 :\n",
    "    mergeString('abc', '123456') -> 'a1b2c3456'\n",
    "\n",
    "* Test Case 3 :\n",
    "    mergeString('0', '123456') -> '0123456'\n"
   ]
  },
  {
   "cell_type": "code",
   "execution_count": 33,
   "metadata": {},
   "outputs": [
    {
     "data": {
      "text/plain": [
       "'aabbccddefg'"
      ]
     },
     "execution_count": 33,
     "metadata": {},
     "output_type": "execute_result"
    }
   ],
   "source": [
    "def mergestring(str1,str2):\n",
    "    #str1=[]\n",
    "    #str2=[]\n",
    "    c = ''\n",
    "    if str1>str2:\n",
    "        a = str1\n",
    "        b = str2\n",
    "    else:\n",
    "        a = str2\n",
    "        b = str1\n",
    "        \n",
    "    x=len(a)\n",
    "    y=len(b)\n",
    "    for i in range (0,y):\n",
    "            c=c+a[i]+b[i]\n",
    "    for i in range(y,x):\n",
    "        c=c+a[i]\n",
    "    return c\n",
    "\n",
    "mergestring('abcdefg','abcd')\n",
    "        \n",
    "    \n",
    "        \n",
    "    \n",
    "    "
   ]
  },
  {
   "cell_type": "code",
   "execution_count": null,
   "metadata": {},
   "outputs": [],
   "source": []
  },
  {
   "cell_type": "markdown",
   "metadata": {},
   "source": [
    "### Problem 9:\n",
    "##### Problem statement\n",
    " Define a function to check if a given year is a leap year. Returns a boolean value\n",
    "\n",
    "#### Constraints\n",
    "\n",
    "#### Test Cases\n",
    "* Test Case 1 :\n",
    "    2000 -> True\n",
    "\n",
    "* Test Case 2 :\n",
    "    1900 -> False\n",
    "\n",
    "* Test Case 3 :\n",
    "    2012 -> True\n",
    "    \n",
    "* Test Case 4 :\n",
    "    2020 -> True\n",
    "    \n",
    "* Test Case 5 :\n",
    "    200 -> False\n",
    "\n"
   ]
  },
  {
   "cell_type": "markdown",
   "metadata": {},
   "source": [
    "def leapyear(n):\n",
    "    for i in range (1 , 3):\n",
    "        if n%100 == 0:\n",
    "            if n%400 == 0:\n",
    "                return 'leap year'\n",
    "        else:\n",
    "            if n%4 == 0:\n",
    "                return 'leap year'\n",
    "    \n",
    "    return 'not a leap year'\n",
    "leapyear(200)    "
   ]
  },
  {
   "cell_type": "markdown",
   "metadata": {},
   "source": []
  },
  {
   "cell_type": "code",
   "execution_count": null,
   "metadata": {},
   "outputs": [],
   "source": [
    "\n",
    "### Problem1:\n",
    "##### Problem statement\n",
    " Define a function to identity the number of times a substring is repeating in a given string.\n",
    "\n",
    "#### Constraints\n",
    "\n",
    "#### Test Cases\n",
    "* Test Case 1\n",
    "* Test Case 2substringCount('str', 'substr') -> 1\n",
    "substringCount('1234567891122334455', '3') -> 3\n",
    "substringCount('abccddccc', 'cc') -> 3\n",
    "substringCount('aaaaaaa', 'aaa' ) -> 5\n"
   ]
  },
  {
   "cell_type": "code",
   "execution_count": 132,
   "metadata": {},
   "outputs": [
    {
     "data": {
      "text/plain": [
       "1"
      ]
     },
     "execution_count": 132,
     "metadata": {},
     "output_type": "execute_result"
    }
   ],
   "source": [
    "def substringcount(string1,string2):\n",
    "\n",
    "    count = 0\n",
    "    if len(string1) > len(string2):\n",
    "            x = len(string1)\n",
    "            y = len(string2)\n",
    "            for i in range (0,x):\n",
    "                if(string1[i:y] == string2):\n",
    "                    count = count + 1\n",
    "                y = y+1\n",
    "            \n",
    "            return count\n",
    "    else:\n",
    "        return substringcount(string2,string1)\n",
    "    \n",
    "\n",
    "substringcount('kartheek','ee')     \n",
    "    "
   ]
  },
  {
   "cell_type": "code",
   "execution_count": null,
   "metadata": {},
   "outputs": [],
   "source": []
  },
  {
   "cell_type": "code",
   "execution_count": null,
   "metadata": {},
   "outputs": [],
   "source": [
    "### Problem1:\n",
    "##### Problem statement\n",
    "\n",
    "#### Constraints\n",
    "\n",
    "#### Test Cases\n",
    "* Test Case 1\n",
    "* Test Case 2\n"
   ]
  },
  {
   "cell_type": "code",
   "execution_count": 135,
   "metadata": {},
   "outputs": [
    {
     "name": "stdout",
     "output_type": "stream",
     "text": [
      "9\n",
      "95\n"
     ]
    }
   ],
   "source": [
    "def daysdifference(a,b):\n",
    "    y = abs(int(a[0:4])-int(b[0:4]))\n",
    "    m = abs(int(a[5:7])-int(b[5:7]))\n",
    "    d = abs(int(a[8:10])-int(b[8:10]))\n",
    "    count = 0\n",
    "    for i in range(int(a[0:4]),int(b[0:4])):\n",
    "        if i%4 == 0 and i%100 != 0:\n",
    "            count = count +1\n",
    "        elif i % 400 == 0:\n",
    "            count = count + 1\n",
    "    for i in range(int(a[5:7]),int(b[5:7])):\n",
    "        if i in [1,3,5,7,8,10,12]:\n",
    "            count = count +1\n",
    "        if i == 2:\n",
    "            count = count -2\n",
    "    return (y*365) + (m*30) + d + count\n",
    "        \n",
    "print(daysdifference('2019:05:10','2019:05:01'))\n",
    "print(daysdifference('0003:03:03','0003:06:06'))\n",
    "\n",
    "        "
   ]
  },
  {
   "cell_type": "code",
   "execution_count": null,
   "metadata": {},
   "outputs": [],
   "source": []
  },
  {
   "cell_type": "code",
   "execution_count": null,
   "metadata": {},
   "outputs": [],
   "source": [
    "### Problem1:\n",
    "##### Problem statement\n",
    "\n",
    "#### Constraints\n",
    "\n",
    "#### Test Cases\n",
    "* Test Case 1\n",
    "* Test Case 2\n"
   ]
  },
  {
   "cell_type": "code",
   "execution_count": 136,
   "metadata": {},
   "outputs": [
    {
     "data": {
      "text/plain": [
       "6.5"
      ]
     },
     "execution_count": 136,
     "metadata": {},
     "output_type": "execute_result"
    }
   ],
   "source": [
    "def averageoutermatrix(a):\n",
    "    c=s=0\n",
    "    \n",
    "    for i in range(0,len(a)):\n",
    "        if i == 0 or i == len(a) - 1:\n",
    "            s = s + sum(a[i])\n",
    "            c = c + len(a[i])\n",
    "        else:\n",
    "            s=s+a[i][0] + a[i][len(a[i])-1]\n",
    "            c = c + 2\n",
    "    return s/c\n",
    "\n",
    "\n",
    "averageoutermatrix([[1,2,3],[4,5,6],[7,8,9],[10,11,12]])\n",
    "        "
   ]
  },
  {
   "cell_type": "code",
   "execution_count": null,
   "metadata": {},
   "outputs": [],
   "source": []
  },
  {
   "cell_type": "code",
   "execution_count": null,
   "metadata": {},
   "outputs": [],
   "source": [
    "### Problem1:\n",
    "##### Problem statement\n",
    "\n",
    "#### Constraints\n",
    "\n",
    "#### Test Cases\n",
    "* Test Case 1\n",
    "* Test Case 2\n"
   ]
  },
  {
   "cell_type": "code",
   "execution_count": 140,
   "metadata": {},
   "outputs": [
    {
     "name": "stdout",
     "output_type": "stream",
     "text": [
      "1 2 3 4 5 6 7 8 9 \n"
     ]
    }
   ],
   "source": [
    "def spiralpattern(a):\n",
    "    if len(a)%2 == 0:\n",
    "        n = len(a)\n",
    "    else:\n",
    "        n = len(a) + 1\n",
    "    j = 0\n",
    "    k = 1\n",
    "    while n != 0:\n",
    "        for i in range(j,len(a[j])-k):\n",
    "            print(a[j][i],end = ' ')\n",
    "        for i in range(j,len(a)-k):\n",
    "            print(a[i][len(a[j])-k],end = ' ')\n",
    "        for i in range(len(a[j])-k,j,-1):\n",
    "            print(a[len(a)-k][i],end = ' ')\n",
    "        for i in range(len(a)-k,j,-1):\n",
    "            print(a[i][j],end = ' ')\n",
    "        n = n - 2\n",
    "        j = j + 1\n",
    "        k = k + 1\n",
    "    if len(a)%2 == 1:\n",
    "        print(a[len(a)//2][len(a)//2],end = ' ')\n",
    "        \n",
    "spiralpattern([[1,2,3],[8,9,4],[7,6,5]])\n",
    "print(end = '\\n')"
   ]
  },
  {
   "cell_type": "code",
   "execution_count": null,
   "metadata": {},
   "outputs": [],
   "source": []
  }
 ],
 "metadata": {
  "kernelspec": {
   "display_name": "Python 3",
   "language": "python",
   "name": "python3"
  },
  "language_info": {
   "codemirror_mode": {
    "name": "ipython",
    "version": 3
   },
   "file_extension": ".py",
   "mimetype": "text/x-python",
   "name": "python",
   "nbconvert_exporter": "python",
   "pygments_lexer": "ipython3",
   "version": "3.7.3"
  }
 },
 "nbformat": 4,
 "nbformat_minor": 2
}
