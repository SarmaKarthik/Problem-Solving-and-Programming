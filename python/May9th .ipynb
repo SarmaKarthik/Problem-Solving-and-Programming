{
 "cells": [
  {
   "cell_type": "markdown",
   "metadata": {},
   "source": [
    "# Problem solving and Programming.\n",
    "\n",
    "## Day no- 11\n",
    "\n",
    "## Date- 9 May 2019\n",
    "\n",
    "\n",
    "\n",
    "\n",
    "### Day Outcomes\n",
    "\n",
    "1. Programming all Day4 problems using Python.\n",
    "2. Programming all Day5 problems using Python.\n",
    "3. Programming all Day6 problems using Python."
   ]
  },
  {
   "cell_type": "markdown",
   "metadata": {},
   "source": [
    "# Problem1:\n",
    "\n",
    "##### Problem statement: \n",
    "evaluate the polynomial f(x)=x^3+2*x^2+3*x-10\n",
    "\n",
    "#### Constraints\n",
    "x in the range [1,1000]\n",
    "\n",
    "#### Test Cases\n",
    "* Test Case 1:---\n",
    "* Test Case 2:--\n",
    "\n",
    "\n",
    "    \n"
   ]
  },
  {
   "cell_type": "code",
   "execution_count": 13,
   "metadata": {},
   "outputs": [
    {
     "data": {
      "text/plain": [
       "12"
      ]
     },
     "execution_count": 13,
     "metadata": {},
     "output_type": "execute_result"
    }
   ],
   "source": [
    "def polynomial(x):\n",
    "    \n",
    "    return (x**3+2*(x**2)+3*x-10)\n",
    "\n",
    "polynomial(2)"
   ]
  },
  {
   "cell_type": "code",
   "execution_count": null,
   "metadata": {},
   "outputs": [],
   "source": []
  },
  {
   "cell_type": "markdown",
   "metadata": {},
   "source": [
    "# Problem 2:\n",
    "\n",
    "##### Problem statement: \n",
    "check whether the given number is even or odd\n",
    "\n",
    "#### Constraints\n",
    "\n",
    "\n",
    "#### Test Cases\n",
    "* Test Case 1: \n",
    "2 => even\n",
    "* Test Case 2:\n",
    "3 => odd"
   ]
  },
  {
   "cell_type": "code",
   "execution_count": 10,
   "metadata": {},
   "outputs": [
    {
     "name": "stdout",
     "output_type": "stream",
     "text": [
      "n is odd\n"
     ]
    }
   ],
   "source": [
    "def evenorodd(n):\n",
    "    \n",
    "    if n%2==0:\n",
    "        print(\"n is even\")\n",
    "    else:\n",
    "        print(\"n is odd\")\n",
    "    \n",
    "evenorodd(2541)"
   ]
  },
  {
   "cell_type": "markdown",
   "metadata": {},
   "source": [
    "# Problem 3:\n",
    "\n",
    "##### Problem statement: \n",
    "find the greatest of 3 numbers\n",
    "\n",
    "#### Constraints\n",
    "--\n",
    "\n",
    "#### Test Cases\n",
    "* Test Case 1:\n",
    "(3,4,5) => 5 is greatest.\n",
    "* Test Case 2:\n",
    "(10,9,10) => 10 is greatest."
   ]
  },
  {
   "cell_type": "code",
   "execution_count": 10,
   "metadata": {},
   "outputs": [
    {
     "name": "stdout",
     "output_type": "stream",
     "text": [
      "10 is greatest\n"
     ]
    }
   ],
   "source": [
    "def greatestof3(a,b,c):\n",
    "    if (a>=b and a>=c):\n",
    "        print (a, \"is greatest\")\n",
    "    else :\n",
    "        if(b>=a and b>=c):\n",
    "            print(b, \"is greatest\")\n",
    "        else:\n",
    "            print(c, \"is greatest\")\n",
    "greatestof3(10,2,10)"
   ]
  },
  {
   "cell_type": "markdown",
   "metadata": {},
   "source": [
    "# Problem 4:\n",
    "\n",
    "##### Problem statement: \n",
    "Given 2 ints,a and b, return True if one of them is 10 or if their sum is 10. \n",
    "\n",
    "#### Constraints\n",
    "---\n",
    "\n",
    "#### Test Cases\n",
    "* Test Case 1:\n",
    "makes10(9,10) => True\n",
    "* Test Case 2:\n",
    "makes10(6,4) => True\n",
    "* Test Case 3:\n",
    "makes10(3,4) => False\n"
   ]
  },
  {
   "cell_type": "code",
   "execution_count": 17,
   "metadata": {},
   "outputs": [
    {
     "name": "stdout",
     "output_type": "stream",
     "text": [
      "True\n"
     ]
    }
   ],
   "source": [
    "def makes10(a,b):\n",
    "    if (a == 10 or b == 10 or a+b == 10):\n",
    "        print(True)\n",
    "    else:\n",
    "        print(False)\n",
    "makes10(4,6)"
   ]
  },
  {
   "cell_type": "code",
   "execution_count": null,
   "metadata": {},
   "outputs": [],
   "source": []
  },
  {
   "cell_type": "markdown",
   "metadata": {},
   "source": [
    "# Problem 5:\n",
    "\n",
    "##### Problem statement: \n",
    "Given 2 int values, return True if first parameter is negative and second parameter is positive or vice-versa. Except if the third parameter  is True, then return True only if both are negative.\n",
    "\n",
    "#### Constraints\n",
    "\n",
    "\n",
    "#### Test Cases\n",
    "* Test Case 1:pos_neg(1, -1, False) → True\n",
    "    \n",
    "* Test Case 2:pos_neg(-1, 1, False) → True\n",
    "    \n",
    "* Test Case 3:pos_neg(-4, -5, True) → True  \n",
    "\n",
    "* Test Case 4:pos_neg(-1, 1, True) => False\n",
    "\n",
    "* Test Case 5:pos_neg(1, 6, True) => False\n",
    "\n",
    "* Test Case 6:pos_neg(-1, -9, False) => False\n",
    "\n",
    "    \n"
   ]
  },
  {
   "cell_type": "code",
   "execution_count": 25,
   "metadata": {},
   "outputs": [
    {
     "data": {
      "text/plain": [
       "False"
      ]
     },
     "execution_count": 25,
     "metadata": {},
     "output_type": "execute_result"
    }
   ],
   "source": [
    "def pos_neg(a,b,Bool):\n",
    "    if ((Bool == False and a > 0 and b < 0) or(Bool == False and a < 0 and b > 0) or ( Bool == True and (a<0 and b<0))):\n",
    "        print(True)\n",
    "    else:\n",
    "        \n",
    "            return False\n",
    "pos_neg(-1, -9, False)"
   ]
  },
  {
   "cell_type": "code",
   "execution_count": null,
   "metadata": {},
   "outputs": [],
   "source": []
  },
  {
   "cell_type": "markdown",
   "metadata": {},
   "source": [
    "# Problem 6:\n",
    "##### Problem statement\n",
    "Given an int n, return True if it is within 10 of 100 or 200. Note: abs(num) computes the absolute value of a number.\n",
    "\n",
    "#### Constraints\n",
    "\n",
    "#### Test Cases\n",
    "* Test Case 1:\n",
    "near_hundred(93) → True\n",
    "* Test Case 2:\n",
    "near_hundred(90) → True\n",
    "* Test Case 3:\n",
    "near_hundred(89) → False\n"
   ]
  },
  {
   "cell_type": "code",
   "execution_count": 38,
   "metadata": {},
   "outputs": [
    {
     "data": {
      "text/plain": [
       "True"
      ]
     },
     "execution_count": 38,
     "metadata": {},
     "output_type": "execute_result"
    }
   ],
   "source": [
    "def withinrange(n):\n",
    "    if (90<= n <= 110 or 190 <= n <= 210):\n",
    "        return True\n",
    "    else:\n",
    "        return False\n",
    "withinrange(201)"
   ]
  },
  {
   "cell_type": "code",
   "execution_count": null,
   "metadata": {},
   "outputs": [],
   "source": []
  },
  {
   "cell_type": "markdown",
   "metadata": {},
   "source": [
    "# Problem 7:\n",
    "##### Problem statement\n",
    "Program to create a random number generator in the range (lb,ub) and returns a random number in the given range.\n",
    "\n",
    "#### Constraints\n",
    "1<=lb<=10\n",
    "10<=ub<=100\n",
    "\n",
    "#### Test Cases\n",
    "* Test Case 1: \n",
    "randomgenerator(1,101)->within range(2,101)\n",
    "\n"
   ]
  },
  {
   "cell_type": "code",
   "execution_count": 22,
   "metadata": {},
   "outputs": [
    {
     "data": {
      "text/plain": [
       "85"
      ]
     },
     "execution_count": 22,
     "metadata": {},
     "output_type": "execute_result"
    }
   ],
   "source": [
    "from random import randrange\n",
    "\n",
    "def randomgenerator(lb,ub):\n",
    "    return randrange(lb+1,ub-1)\n",
    "\n",
    "randomgenerator(1,101)\n",
    "    "
   ]
  },
  {
   "cell_type": "code",
   "execution_count": 25,
   "metadata": {},
   "outputs": [
    {
     "data": {
      "text/plain": [
       "91"
      ]
     },
     "execution_count": 25,
     "metadata": {},
     "output_type": "execute_result"
    }
   ],
   "source": [
    "import random\n",
    "\n",
    "def randomgenerator(lb,ub):\n",
    "    return random.randint(lb+1,ub-1)\n",
    "\n",
    "randomgenerator(1,101)"
   ]
  },
  {
   "cell_type": "code",
   "execution_count": null,
   "metadata": {},
   "outputs": [],
   "source": []
  },
  {
   "cell_type": "markdown",
   "metadata": {},
   "source": [
    "\n",
    "# Problem 8:\n",
    "\n",
    "##### Problem statement\n",
    "given an integer n, calculate the sum of n random numbers in the given range.\n",
    "\n",
    "#### Constraints\n",
    "\n",
    "#### Test Cases\n",
    "\n"
   ]
  },
  {
   "cell_type": "code",
   "execution_count": 53,
   "metadata": {},
   "outputs": [
    {
     "data": {
      "text/plain": [
       "50558391761147003"
      ]
     },
     "execution_count": 53,
     "metadata": {},
     "output_type": "execute_result"
    }
   ],
   "source": [
    "import random\n",
    "\n",
    "def sumrandomnumbers(n,lb,ub):\n",
    "    sum = 0\n",
    "    for count in range(1,n+1):\n",
    "        sum = sum + random.randint( lb, ub)\n",
    "    return sum\n",
    "sumrandomnumbers(100,100000000,1000000000000000)\n",
    "    "
   ]
  },
  {
   "cell_type": "code",
   "execution_count": null,
   "metadata": {},
   "outputs": [],
   "source": []
  },
  {
   "cell_type": "markdown",
   "metadata": {},
   "source": [
    "# Problem 9:\n",
    "##### Problem statement\n",
    "program to generate first n natural numbers.\n",
    "\n",
    "#### Constraints\n",
    "1<=n<=1000\n",
    "#### Test Cases\n",
    "\n",
    "\n"
   ]
  },
  {
   "cell_type": "code",
   "execution_count": 42,
   "metadata": {},
   "outputs": [
    {
     "name": "stdout",
     "output_type": "stream",
     "text": [
      "[1, 2, 3, 4, 5, 6, 7, 8, 9, 10, 11, 12, 13, 14, 15, 16, 17, 18, 19, 20]\n"
     ]
    }
   ],
   "source": [
    "def genofnat(n):\n",
    "    \n",
    "    a=[]\n",
    "    for i in range(1,n+1):\n",
    "        a.append(i)\n",
    "    return a\n",
    "print(genofnat(20))"
   ]
  },
  {
   "cell_type": "code",
   "execution_count": null,
   "metadata": {},
   "outputs": [],
   "source": []
  },
  {
   "cell_type": "markdown",
   "metadata": {},
   "source": [
    "# Problem 10:\n",
    "##### Problem statement\n",
    "Program to find whether the given number is prime or not.\n",
    "\n",
    "#### Constraints\n",
    "\n",
    "\n",
    "#### Test Cases\n",
    "* Test Case 1\n",
    "* Test Case 2\n"
   ]
  },
  {
   "cell_type": "code",
   "execution_count": 5,
   "metadata": {},
   "outputs": [
    {
     "data": {
      "text/plain": [
       "False"
      ]
     },
     "execution_count": 5,
     "metadata": {},
     "output_type": "execute_result"
    }
   ],
   "source": [
    "def isprime(n):\n",
    "    for i in range(2,n):\n",
    "        if n%i==0:\n",
    "            return False\n",
    "        \n",
    "    return True\n",
    "isprime(22)"
   ]
  },
  {
   "cell_type": "code",
   "execution_count": null,
   "metadata": {},
   "outputs": [],
   "source": []
  },
  {
   "cell_type": "markdown",
   "metadata": {},
   "source": [
    "# Problem 11:\n",
    "##### Problem statement\n",
    "Design a procedure to perform Linear search on list of N unsorted unique numbers. It take an array and the key element to be searched and returns the index of the element of key element if found. Else returns -1\n",
    "\n",
    "#### Constraints\n",
    "\n",
    "#### Test Cases\n",
    "* Test Case 1:LinearSearch( a[5,4,3,2,1], 4) -> 2\n",
    "\n",
    "* Test Case 2:LinearSearch( a[90, 123, 324, 21, 56], 22) -> -1\n"
   ]
  },
  {
   "cell_type": "code",
   "execution_count": 20,
   "metadata": {},
   "outputs": [
    {
     "data": {
      "text/plain": [
       "-1"
      ]
     },
     "execution_count": 20,
     "metadata": {},
     "output_type": "execute_result"
    }
   ],
   "source": [
    "def linearsearch(a,key):\n",
    "    for i in range (0,len(a)):\n",
    "        if (a[i]==key):\n",
    "            return i\n",
    "    return -1\n",
    "\n",
    "linearsearch([12,15,20,78,9], 20)\n",
    "linearsearch([50,25,80,0,66],1)        \n",
    "    \n",
    "    "
   ]
  },
  {
   "cell_type": "code",
   "execution_count": null,
   "metadata": {},
   "outputs": [],
   "source": []
  },
  {
   "cell_type": "markdown",
   "metadata": {},
   "source": [
    "# Problem 12:\n",
    "##### Problem statement\n",
    " Factorial of a given number \n",
    "\n",
    "#### Constraints\n",
    "\n",
    "#### Test Cases\n",
    "* Test Case 1 Factorial(5) -> 120\n",
    "\n",
    "* Test Case 2   Factorial (6) -> 720\n"
   ]
  },
  {
   "cell_type": "code",
   "execution_count": 16,
   "metadata": {},
   "outputs": [
    {
     "data": {
      "text/plain": [
       "120"
      ]
     },
     "execution_count": 16,
     "metadata": {},
     "output_type": "execute_result"
    }
   ],
   "source": [
    "def factorial(n):\n",
    "    value=1\n",
    "    i=1\n",
    "    for i in range (1,n+1):\n",
    "        value=value*i\n",
    "        \n",
    "    return value\n",
    "factorial(5)\n",
    "\n",
    "\n",
    "\n",
    "\n",
    "\n",
    "\n",
    "\n",
    "\n",
    "\n",
    "\n",
    "\n",
    "\n",
    "\n",
    "\n",
    "\n"
   ]
  },
  {
   "cell_type": "code",
   "execution_count": null,
   "metadata": {},
   "outputs": [],
   "source": []
  },
  {
   "cell_type": "markdown",
   "metadata": {},
   "source": [
    "# Problem 13:\n",
    "##### Problem statement\n",
    "finding the square root of a number with out using sqrt function.\n",
    "\n",
    "#### Constraints\n",
    "\n",
    "#### Test Cases\n",
    "* Test Case 1\n",
    "* Test Case 2\n"
   ]
  },
  {
   "cell_type": "code",
   "execution_count": 70,
   "metadata": {},
   "outputs": [
    {
     "data": {
      "text/plain": [
       "1.4142135623730951"
      ]
     },
     "execution_count": 70,
     "metadata": {},
     "output_type": "execute_result"
    }
   ],
   "source": [
    "def squareroot(n):\n",
    "    return n**0.5\n",
    "squareroot(2)\n",
    "    "
   ]
  },
  {
   "cell_type": "code",
   "execution_count": null,
   "metadata": {},
   "outputs": [],
   "source": []
  },
  {
   "cell_type": "markdown",
   "metadata": {},
   "source": [
    "# Problem 14:\n",
    "frequency of a given number in a list with a key.\n",
    "##### Problem statement\n",
    "\n",
    "#### Constraints\n",
    "\n",
    "#### Test Cases\n",
    "* Test Case 1 freqof([1,2,3,4,5,1,2],5) => 1\n",
    "\n"
   ]
  },
  {
   "cell_type": "code",
   "execution_count": 14,
   "metadata": {},
   "outputs": [
    {
     "data": {
      "text/plain": [
       "1"
      ]
     },
     "execution_count": 14,
     "metadata": {},
     "output_type": "execute_result"
    }
   ],
   "source": [
    "def freqof(a,key):\n",
    "    count=0\n",
    "    \n",
    "    for i in range(0,len(a)):\n",
    "        if (a[i]==key):\n",
    "            count=count+1\n",
    "            \n",
    "        else:\n",
    "            i=i+1\n",
    "    return count\n",
    "freqof([1,2,3,4,5,1,2],5)"
   ]
  },
  {
   "cell_type": "code",
   "execution_count": null,
   "metadata": {},
   "outputs": [],
   "source": []
  },
  {
   "cell_type": "markdown",
   "metadata": {},
   "source": [
    "# Problem 15:\n",
    "##### Problem statement\n",
    " program to find whether the given string is a palindrome or not and to return True if yes and False if no.\n",
    "#### Constraints\n",
    "\n",
    "#### Test Cases\n",
    "* Test Case 1Palindrome(\"racecar\") -> True\n",
    "\n",
    "* Test Case 2 Palindrome(\"raptor\") -> False\n"
   ]
  },
  {
   "cell_type": "code",
   "execution_count": 18,
   "metadata": {},
   "outputs": [
    {
     "data": {
      "text/plain": [
       "True"
      ]
     },
     "execution_count": 18,
     "metadata": {},
     "output_type": "execute_result"
    }
   ],
   "source": [
    "\n",
    "\n",
    "\n",
    "\n",
    "def palindrome(a):\n",
    "    for i in range (0,len(a)):\n",
    "        if(a==a [len(a)-1::-1]):\n",
    "            \n",
    "            return True\n",
    "        else:\n",
    "            return False\n",
    "palindrome(\"racecar\")"
   ]
  },
  {
   "cell_type": "code",
   "execution_count": null,
   "metadata": {},
   "outputs": [],
   "source": []
  },
  {
   "cell_type": "markdown",
   "metadata": {},
   "source": [
    "# Problem 16:\n",
    "##### Problem statement\n",
    "program to generate multiplication tables. \n",
    "\n",
    "#### Constraints\n",
    "\n",
    "#### Test Cases\n",
    "* Test Case 1   MT(3, 5, 7) -> \n",
    "3 X 5 = 15\n",
    "\n",
    "3 X 6 = 18\n",
    "\n",
    "3 X 7 = 21\n",
    "\n"
   ]
  },
  {
   "cell_type": "code",
   "execution_count": 112,
   "metadata": {
    "scrolled": true
   },
   "outputs": [
    {
     "name": "stdout",
     "output_type": "stream",
     "text": [
      "3  * 22  =  66\n",
      "3  * 23  =  69\n",
      "3  * 24  =  72\n",
      "3  * 25  =  75\n",
      "3  * 26  =  78\n",
      "3  * 27  =  81\n",
      "3  * 28  =  84\n",
      "3  * 29  =  87\n",
      "3  * 30  =  90\n",
      "3  * 31  =  93\n",
      "3  * 32  =  96\n",
      "3  * 33  =  99\n"
     ]
    }
   ],
   "source": [
    "def table(n,lb,ub):\n",
    "    \n",
    "    for i in range(lb,ub+1):\n",
    "        print( n,\" *\" ,i,\" = \",(n * i)  )\n",
    "table(3,22,33)"
   ]
  },
  {
   "cell_type": "code",
   "execution_count": null,
   "metadata": {},
   "outputs": [],
   "source": []
  },
  {
   "cell_type": "markdown",
   "metadata": {},
   "source": [
    "# Problem 17:\n",
    "##### Problem statement\n",
    " Procedure to print the list of factors of a given number.\n",
    "\n",
    "#### Constraints\n",
    "\n",
    "#### Test Cases\n",
    "* Test Case 1\n",
    "           \n",
    "        FactorList(6)  ->  1 2 3 6\n",
    "\n",
    "        FactorList (9) ->   1 3 9\n",
    "\n",
    "        FactorList (19) ->  1  19\n",
    "\n",
    "\n"
   ]
  },
  {
   "cell_type": "code",
   "execution_count": 19,
   "metadata": {},
   "outputs": [
    {
     "name": "stdout",
     "output_type": "stream",
     "text": [
      "1\n",
      "2\n",
      "4\n",
      "5\n",
      "10\n",
      "20\n",
      "25\n",
      "50\n",
      "100\n"
     ]
    }
   ],
   "source": [
    "def factors(a):\n",
    "    \n",
    "    for i in range (1,a+1): #using // results in division.\n",
    "        if a%i==0:\n",
    "            print (i)\n",
    "\n",
    "      \n",
    "        \n",
    "factors(100)"
   ]
  },
  {
   "cell_type": "code",
   "execution_count": null,
   "metadata": {},
   "outputs": [],
   "source": []
  },
  {
   "cell_type": "markdown",
   "metadata": {},
   "source": [
    "# Problem 18:\n",
    "##### Problem statement\n",
    " program to check if a given number is a Perfect Number. ( Perfect number is a number for which the sum of all it's divisors is equal to the number \n",
    "\n",
    "#### Constraints\n",
    "\n",
    "#### Test Cases\n",
    "* Test Case 1   :\n",
    "IsPerfect(3) -> False\n",
    "\n",
    "          \n",
    "\n",
    "\n",
    "* Test Case 2  :\n",
    "IsPerfect (6) -> True\n"
   ]
  },
  {
   "cell_type": "code",
   "execution_count": 7,
   "metadata": {},
   "outputs": [
    {
     "data": {
      "text/plain": [
       "'perfect number'"
      ]
     },
     "execution_count": 7,
     "metadata": {},
     "output_type": "execute_result"
    }
   ],
   "source": [
    "def perfectnumber(a):\n",
    "    sum=0\n",
    "    \n",
    "    for i in range (1,(a//2)+1):\n",
    "        if a%i==0:\n",
    "            \n",
    "            sum=sum+i\n",
    "    if sum== a:\n",
    "        return \"perfect number\"\n",
    "    else:\n",
    "        return \"not a perfect number.\"\n",
    "perfectnumber(28)\n",
    "            "
   ]
  },
  {
   "cell_type": "code",
   "execution_count": null,
   "metadata": {},
   "outputs": [],
   "source": []
  }
 ],
 "metadata": {
  "kernelspec": {
   "display_name": "Python 3",
   "language": "python",
   "name": "python3"
  },
  "language_info": {
   "codemirror_mode": {
    "name": "ipython",
    "version": 3
   },
   "file_extension": ".py",
   "mimetype": "text/x-python",
   "name": "python",
   "nbconvert_exporter": "python",
   "pygments_lexer": "ipython3",
   "version": "3.7.3"
  }
 },
 "nbformat": 4,
 "nbformat_minor": 2
}
